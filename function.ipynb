{
 "cells": [
  {
   "cell_type": "markdown",
   "metadata": {},
   "source": [
    "### Exercise 8-1"
   ]
  },
  {
   "cell_type": "markdown",
   "metadata": {},
   "source": [
    "# Write a function called display_message() that prints one sen-\n",
    "tence telling everyone what you are learning about in this chapter. Call the\n",
    "function, and make sure the message displays correctly."
   ]
  },
  {
   "cell_type": "code",
   "execution_count": 8,
   "metadata": {},
   "outputs": [
    {
     "name": "stdout",
     "output_type": "stream",
     "text": [
      "In this chapter, I am learning about Python functions.\n"
     ]
    }
   ],
   "source": [
    "def display_message():\n",
    "    \"\"\"Prints a message about what is being learned in this chapter.\"\"\"\n",
    "    message = \"In this chapter, I am learning about Python functions.\"\n",
    "    print(message)\n",
    "\n",
    "# Call the function to display the message\n",
    "display_message()\n"
   ]
  },
  {
   "cell_type": "markdown",
   "metadata": {},
   "source": [
    "### Exercise 8-2"
   ]
  },
  {
   "cell_type": "markdown",
   "metadata": {},
   "source": [
    "# Favorite Book: Write a function called favorite_book() that accepts one\n",
    "parameter, title. The function should print a message, such as One of my\n",
    "favorite books is Alice in Wonderland. Call the function, making sure to\n",
    "include a book title as an argument in the function call."
   ]
  },
  {
   "cell_type": "code",
   "execution_count": 9,
   "metadata": {},
   "outputs": [
    {
     "name": "stdout",
     "output_type": "stream",
     "text": [
      "One of my favorite books is Alice in Wonderland.\n"
     ]
    }
   ],
   "source": [
    "def favorite_book(title):\n",
    "    \"\"\"Prints a message about a favorite book.\"\"\"\n",
    "    message = f\"One of my favorite books is {title}.\"\n",
    "    print(message)\n",
    "\n",
    "# Call the function with a book title\n",
    "favorite_book(\"Alice in Wonderland\")\n"
   ]
  },
  {
   "cell_type": "markdown",
   "metadata": {},
   "source": [
    "### Exercise 8-3"
   ]
  },
  {
   "cell_type": "markdown",
   "metadata": {},
   "source": [
    " T-Shirt: Write a function called make_shirt() that accepts a size and the\n",
    "text of a message that should be printed on the shirt. The function should print a\n",
    "sentence summarizing the size of the shirt and the message printed on it.\n",
    "Call the function once using positional arguments to make a shirt. Call the\n",
    "function a second time using keyword arguments."
   ]
  },
  {
   "cell_type": "code",
   "execution_count": 10,
   "metadata": {},
   "outputs": [
    {
     "name": "stdout",
     "output_type": "stream",
     "text": [
      "A Medium-sized shirt will be made with the message: 'Hello, World!'.\n",
      "A Large-sized shirt will be made with the message: 'Python Rocks!'.\n"
     ]
    }
   ],
   "source": [
    "def make_shirt(size, message):\n",
    "    \"\"\"Prints a sentence summarizing the size and message on the shirt.\"\"\"\n",
    "    sentence = f\"A {size}-sized shirt will be made with the message: '{message}'.\"\n",
    "    print(sentence)\n",
    "\n",
    "# Call the function with positional arguments\n",
    "make_shirt(\"Medium\", \"Hello, World!\")\n",
    "\n",
    "# Call the function with keyword arguments\n",
    "make_shirt(size=\"Large\", message=\"Python Rocks!\")"
   ]
  },
  {
   "cell_type": "markdown",
   "metadata": {},
   "source": [
    "### Exercise 8-4"
   ]
  },
  {
   "cell_type": "markdown",
   "metadata": {},
   "source": []
  },
  {
   "cell_type": "markdown",
   "metadata": {},
   "source": [
    " Large Shirts: Modify the make_shirt() function so that shirts are large\n",
    "by default with a message that reads I love Python. Make a large shirt and a\n",
    "medium shirt with the default message, and a shirt of any size with a different\n",
    "message."
   ]
  },
  {
   "cell_type": "code",
   "execution_count": null,
   "metadata": {},
   "outputs": [
    {
     "name": "stdout",
     "output_type": "stream",
     "text": [
      "A Large-sized shirt will be made with the message: 'I love Python'.\n",
      "A Medium-sized shirt will be made with the message: 'I love Python'.\n",
      "A Small-sized shirt will be made with the message: 'Python is fun!'.\n"
     ]
    }
   ],
   "source": [
    "def make_shirt(size=\"Large\", message=\"I love Python\"):\n",
    "    \"\"\"Prints a sentence summarizing the size and message on the shirt.\"\"\"\n",
    "    sentence = f\"A {size}-sized shirt will be made with the message: '{message}'.\"\n",
    "    print(sentence)\n",
    "\n",
    "# Make a large shirt with the default message\n",
    "make_shirt()\n",
    "\n",
    "# Make a medium shirt with the default message\n",
    "make_shirt(size=\"Medium\")\n",
    "\n",
    "# Make a shirt of any size with a different message\n",
    "make_shirt(size=\"Small\", message=\"Python is fun!\")\n"
   ]
  },
  {
   "cell_type": "markdown",
   "metadata": {},
   "source": [
    "## Exercise 8-5"
   ]
  },
  {
   "cell_type": "markdown",
   "metadata": {},
   "source": [
    "Cities: Write a function called describe_city() that accepts the name of\n",
    "a city and its country. The function should print a simple sentence, such as\n",
    "Reykjavik is in Iceland. Give the parameter for the country a default value.\n",
    "Call your function for three different cities, at least one of which is not in the\n",
    "default country."
   ]
  },
  {
   "cell_type": "code",
   "execution_count": 12,
   "metadata": {},
   "outputs": [
    {
     "name": "stdout",
     "output_type": "stream",
     "text": [
      "Reykjavik is in Iceland.\n",
      "Paris is in France.\n",
      "New York is in Unknown.\n"
     ]
    }
   ],
   "source": [
    "def describe_city(city, country=\"Unknown\"):\n",
    "    \"\"\"Prints a sentence describing the city and its country.\"\"\"\n",
    "    sentence = f\"{city} is in {country}.\"\n",
    "    print(sentence)\n",
    "\n",
    "# Call the function for three different cities\n",
    "describe_city(\"Reykjavik\", \"Iceland\")\n",
    "describe_city(\"Paris\", \"France\")\n",
    "describe_city(\"New York\")  # Using the default country \"Unknown\"\n"
   ]
  },
  {
   "cell_type": "markdown",
   "metadata": {},
   "source": [
    "### Exercise 8-6"
   ]
  },
  {
   "cell_type": "markdown",
   "metadata": {},
   "source": [
    "City Names: Write a function called city_country() that takes in the name\n",
    "of a city and its country. The function should return a string formatted like this:\n",
    "\"Santiago, Chile\"\n",
    "Call your function with at least three city-country pairs, and print the values\n",
    "that are returned."
   ]
  },
  {
   "cell_type": "code",
   "execution_count": 13,
   "metadata": {},
   "outputs": [
    {
     "name": "stdout",
     "output_type": "stream",
     "text": [
      "Santiago, Chile\n",
      "Tokyo, Japan\n",
      "Paris, France\n"
     ]
    }
   ],
   "source": [
    "def city_country(city, country):\n",
    "    \"\"\"Returns a formatted string with the city and its country.\"\"\"\n",
    "    return f\"{city}, {country}\"\n",
    "\n",
    "# Call the function with three city-country pairs\n",
    "result1 = city_country(\"Santiago\", \"Chile\")\n",
    "result2 = city_country(\"Tokyo\", \"Japan\")\n",
    "result3 = city_country(\"Paris\", \"France\")\n",
    "\n",
    "# Print the values that are returned\n",
    "print(result1)\n",
    "print(result2)\n",
    "print(result3)\n"
   ]
  },
  {
   "cell_type": "markdown",
   "metadata": {},
   "source": [
    "### Exercise 8-7"
   ]
  },
  {
   "cell_type": "markdown",
   "metadata": {},
   "source": [
    "Album: Write a function called make_album() that builds a dictionary\n",
    "describing a music album. The function should take in an artist name and an\n",
    "album title, and it should return a dictionary containing these two pieces of\n",
    "information. Use the function to make three dictionaries representing different\n",
    "albums. Print each return value to show that the dictionaries are storing the\n",
    "album information correctly.\n",
    "Use None to add an optional parameter to make_album() that allows you to\n",
    "store the number of songs on an album. If the calling line includes a value for\n",
    "the number of songs, add that value to the album’s dictionary. Make at least\n",
    "one new function call that includes the number of songs on an album"
   ]
  },
  {
   "cell_type": "code",
   "execution_count": 14,
   "metadata": {},
   "outputs": [
    {
     "name": "stdout",
     "output_type": "stream",
     "text": [
      "{'artist': 'Adele', 'title': '21'}\n",
      "{'artist': 'Ed Sheeran', 'title': '÷ (Divide)'}\n",
      "{'artist': 'Taylor Swift', 'title': '1989'}\n",
      "{'artist': 'Imagine Dragons', 'title': 'Night Visions', 'songs': 12}\n"
     ]
    }
   ],
   "source": [
    "def make_album(artist, title, songs=None):\n",
    "    \"\"\"Builds a dictionary describing a music album.\"\"\"\n",
    "    album = {'artist': artist, 'title': title}\n",
    "    if songs:\n",
    "        album['songs'] = songs\n",
    "    return album\n",
    "\n",
    "# Example calls to show that dictionaries store album information correctly\n",
    "album1 = make_album(\"Adele\", \"21\")\n",
    "album2 = make_album(\"Ed Sheeran\", \"÷ (Divide)\")\n",
    "album3 = make_album(\"Taylor Swift\", \"1989\")\n",
    "\n",
    "print(album1)\n",
    "print(album2)\n",
    "print(album3)\n",
    "\n",
    "# Example call with the number of songs on an album\n",
    "album_with_songs = make_album(\"Imagine Dragons\", \"Night Visions\", 12)\n",
    "print(album_with_songs)\n"
   ]
  },
  {
   "cell_type": "markdown",
   "metadata": {},
   "source": [
    "### Exercise 8-8"
   ]
  },
  {
   "cell_type": "markdown",
   "metadata": {},
   "source": [
    "User Albums: Start with your program from Exercise 8-7. Write a while\n",
    "loop that allows users to enter an album’s artist and title. Once you have that\n",
    "information, call make_album() with the user’s input and print the dictionary\n",
    "that’s created. Be sure to include a quit value in the while loop."
   ]
  },
  {
   "cell_type": "code",
   "execution_count": 15,
   "metadata": {},
   "outputs": [],
   "source": [
    "def make_album(artist, title, songs=None):\n",
    "    \"\"\"Builds a dictionary describing a music album.\"\"\"\n",
    "    album = {'artist': artist, 'title': title}\n",
    "    if songs:\n",
    "        album['songs'] = songs\n",
    "    return album\n",
    "\n",
    "# User input loop\n",
    "while True:\n",
    "    artist = input(\"Enter the artist's name (or 'quit' to exit): \")\n",
    "    if artist.lower() == 'quit':\n",
    "        break\n",
    "\n",
    "    title = input(\"Enter the album title: \")\n",
    "    songs_input = input(\"Enter the number of songs (or press Enter to skip): \")\n",
    "\n",
    "    # Check if songs_input is provided and not an empty string\n",
    "    if songs_input:\n",
    "        songs = int(songs_input)\n",
    "    else:\n",
    "        songs = None\n",
    "\n",
    "    # Create and print the album dictionary\n",
    "    album_dict = make_album(artist, title, songs)\n",
    "    print(album_dict)\n"
   ]
  },
  {
   "cell_type": "markdown",
   "metadata": {},
   "source": [
    "### Exercise 8-9"
   ]
  },
  {
   "cell_type": "markdown",
   "metadata": {},
   "source": [
    "Messages: Make a list containing a series of short text messages. Pass the\n",
    "list to a function called show_messages(), which prints each text message"
   ]
  },
  {
   "cell_type": "code",
   "execution_count": null,
   "metadata": {},
   "outputs": [],
   "source": [
    "def show_messages(messages):\n",
    "    \"\"\"Prints each text message in the list.\"\"\"\n",
    "    for message in messages:\n",
    "        print(message)\n",
    "\n",
    "# Define a list of text messages\n",
    "text_messages = [\n",
    "    \"Hello, how are you?\",\n",
    "    \"Remember to pick up groceries.\",\n",
    "    \"Happy birthday!\",\n",
    "    \"Don't forget the meeting at 2 PM.\",\n",
    "    \"Hope you have a great day!\"\n",
    "]\n",
    "\n",
    "# Call the show_messages function with the list of messages\n",
    "show_messages(text_messages)\n"
   ]
  },
  {
   "cell_type": "markdown",
   "metadata": {},
   "source": [
    "### Exercise 8-10"
   ]
  },
  {
   "cell_type": "markdown",
   "metadata": {},
   "source": [
    "Sending Messages: Start with a copy of your program from Exercise 8-9.\n",
    "Write a function called send_messages() that prints each text message and\n",
    "moves each message to a new list called sent_messages as it’s printed. After\n",
    "calling the function, print both of your lists to make sure the messages were\n",
    "moved correctly."
   ]
  },
  {
   "cell_type": "code",
   "execution_count": null,
   "metadata": {},
   "outputs": [],
   "source": [
    "def send_messages(messages, sent_messages):\n",
    "    \"\"\"Prints each text message, moves it to sent_messages, and prints the updated lists.\"\"\"\n",
    "    while messages:\n",
    "        current_message = messages.pop(0)\n",
    "        print(f\"Sending message: {current_message}\")\n",
    "        sent_messages.append(current_message)\n",
    "\n",
    "# Define a list of text messages\n",
    "text_messages = [\n",
    "    \"Hello, how are you?\",\n",
    "    \"Remember to pick up groceries.\",\n",
    "    \"Happy birthday!\",\n",
    "    \"Don't forget the meeting at 2 PM.\",\n",
    "    \"Hope you have a great day!\"\n",
    "]\n",
    "\n",
    "# Create an empty list to store sent messages\n",
    "sent_messages = []\n",
    "\n",
    "# Call the send_messages function with the list of messages and the empty list for sent messages\n",
    "send_messages(text_messages, sent_messages)\n",
    "\n",
    "# Print the original list of text messages\n",
    "print(\"Original list of messages:\")\n",
    "for message in text_messages:\n",
    "    print(message)\n",
    "\n",
    "# Print the list of sent messages\n",
    "print(\"\\nList of sent messages:\")\n",
    "for sent_message in sent_messages:\n",
    "    print(sent_message)\n"
   ]
  },
  {
   "cell_type": "markdown",
   "metadata": {},
   "source": [
    "### Exercise 8-11"
   ]
  },
  {
   "cell_type": "markdown",
   "metadata": {},
   "source": [
    "Archived Messages: Start with your work from Exercise 8-10. Call the func-\n",
    "tion send_messages() with a copy of the list of messages. After calling the func-\n",
    "tion, print both of your lists to show that the original list has retained its messages."
   ]
  },
  {
   "cell_type": "code",
   "execution_count": null,
   "metadata": {},
   "outputs": [],
   "source": [
    "def send_messages(messages, sent_messages):\n",
    "    \"\"\"Prints each text message, moves it to sent_messages, and prints the updated lists.\"\"\"\n",
    "    while messages:\n",
    "        current_message = messages.pop(0)\n",
    "        print(f\"Sending message: {current_message}\")\n",
    "        sent_messages.append(current_message)\n",
    "\n",
    "# Define a list of text messages\n",
    "text_messages = [\n",
    "    \"Hello, how are you?\",\n",
    "    \"Remember to pick up groceries.\",\n",
    "    \"Happy birthday!\",\n",
    "    \"Don't forget the meeting at 2 PM.\",\n",
    "    \"Hope you have a great day!\"\n",
    "]\n",
    "\n",
    "# Create a copy of the list of text messages\n",
    "messages_copy = text_messages.copy()\n",
    "\n",
    "# Create an empty list to store sent messages\n",
    "sent_messages = []\n",
    "\n",
    "# Call the send_messages function with the copy of the list of messages\n",
    "send_messages(messages_copy, sent_messages)\n",
    "\n",
    "# Print the original list of text messages\n",
    "print(\"Original list of messages:\")\n",
    "for message in text_messages:\n",
    "    print(message)\n",
    "\n",
    "# Print the list of sent messages\n",
    "print(\"\\nList of sent messages:\")\n",
    "for sent_message in sent_messages:\n",
    "    print(sent_message)\n"
   ]
  },
  {
   "cell_type": "markdown",
   "metadata": {},
   "source": [
    "### Exercise 8-12"
   ]
  },
  {
   "cell_type": "markdown",
   "metadata": {},
   "source": [
    "Sandwiches: Write a function that accepts a list of items a person wants\n",
    "on a sandwich. The function should have one parameter that collects as many\n",
    "items as the function call provides, and it should print a summary of the sand-\n",
    "wich that’s being ordered. Call the function three times, using a different num-\n",
    "ber of arguments each time."
   ]
  },
  {
   "cell_type": "code",
   "execution_count": null,
   "metadata": {},
   "outputs": [],
   "source": [
    "def make_sandwich(*toppings):\n",
    "    \"\"\"Prints a summary of the sandwich with the provided toppings.\"\"\"\n",
    "    print(\"\\nMaking a sandwich with the following toppings:\")\n",
    "    for topping in toppings:\n",
    "        print(f\"- {topping}\")\n",
    "    print(\"Your sandwich is ready!\")\n",
    "\n",
    "# Call the function with different numbers of arguments\n",
    "make_sandwich('Ham', 'Cheese', 'Lettuce')\n",
    "make_sandwich('Turkey', 'Swiss')\n",
    "make_sandwich('Veggie', 'Tomato', 'Cucumber', 'Mustard')\n"
   ]
  },
  {
   "cell_type": "markdown",
   "metadata": {},
   "source": [
    "### Exercise 8-13"
   ]
  },
  {
   "cell_type": "markdown",
   "metadata": {},
   "source": [
    "User Profile: Start with a copy of user_profile.py from page 148. Build a\n",
    "profile of yourself by calling build_profile(), using your first and last names\n",
    "and three other key-value pairs that describe you."
   ]
  },
  {
   "cell_type": "code",
   "execution_count": null,
   "metadata": {},
   "outputs": [],
   "source": [
    "def build_profile(first_name, last_name, **additional_info):\n",
    "    \"\"\"Build a user profile dictionary.\"\"\"\n",
    "    profile = {\n",
    "        'first_name': first_name,\n",
    "        'last_name': last_name,\n",
    "    }\n",
    "    profile.update(additional_info)\n",
    "    return profile\n",
    "\n",
    "# Example: Build a profile of yourself\n",
    "my_profile = build_profile(\n",
    "    first_name='YourFirstName',\n",
    "    last_name='YourLastName',\n",
    "    age=25,\n",
    "    city='YourCity',\n",
    "    occupation='YourOccupation'\n",
    ")\n",
    "\n",
    "print(my_profile)\n"
   ]
  },
  {
   "cell_type": "markdown",
   "metadata": {},
   "source": [
    "### Exercise 8-14"
   ]
  },
  {
   "cell_type": "markdown",
   "metadata": {},
   "source": [
    "Cars: Write a function that stores information about a car in a diction-\n",
    "ary. The function should always receive a manufacturer and a model name. It\n",
    "should then accept an arbitrary number of keyword arguments. Call the func-\n",
    "tion with the required information and two other name-value pairs, such as a\n",
    "color or an optional feature. Your function should work for a call like this one"
   ]
  },
  {
   "cell_type": "code",
   "execution_count": null,
   "metadata": {},
   "outputs": [],
   "source": [
    "def car_info(manufacturer, model, **additional_info):\n",
    "    \"\"\"Store information about a car in a dictionary.\"\"\"\n",
    "    car = {\n",
    "        'manufacturer': manufacturer,\n",
    "        'model': model,\n",
    "    }\n",
    "    car.update(additional_info)\n",
    "    return car\n",
    "\n",
    "# Example: Store information about a car\n",
    "my_car = car_info(\n",
    "    manufacturer='Toyota',\n",
    "    model='Camry',\n",
    "    color='Blue',\n",
    "    year=2022,\n",
    "    automatic=True\n",
    ")\n",
    "\n",
    "print(my_car)\n"
   ]
  },
  {
   "cell_type": "markdown",
   "metadata": {},
   "source": [
    "### Exercise 8-15"
   ]
  },
  {
   "cell_type": "markdown",
   "metadata": {},
   "source": [
    "Printing Models: Put the functions for the example printing_models.py in a\n",
    "separate file called printing_functions.py. Write an import statement at the top\n",
    "of printing_models.py, and modify the file to use the imported functions."
   ]
  },
  {
   "cell_type": "code",
   "execution_count": null,
   "metadata": {},
   "outputs": [],
   "source": [
    "# printing_functions.py\n",
    "\n",
    "def print_models(unprinted_designs, completed_models):\n",
    "    \"\"\"Simulate printing each design, until none are left.\n",
    "    Move each design to completed_models after printing.\"\"\"\n",
    "    while unprinted_designs:\n",
    "        current_design = unprinted_designs.pop()\n",
    "        print(f\"Printing model: {current_design}\")\n",
    "        completed_models.append(current_design)\n",
    "\n",
    "def show_completed_models(completed_models):\n",
    "    \"\"\"Show all the models that were printed.\"\"\"\n",
    "    print(\"\\nCompleted models:\")\n",
    "    for model in completed_models:\n",
    "        print(model)\n"
   ]
  },
  {
   "cell_type": "markdown",
   "metadata": {},
   "source": [
    "### Exercise 8-16"
   ]
  },
  {
   "cell_type": "markdown",
   "metadata": {},
   "source": [
    "Imports: Using a program you wrote that has one function in it, store that\n",
    "function in a separate file. Import the function into your main program file, and\n",
    "call the function using each of these approaches:\n",
    "import module_name\n",
    "from module_name import function_name\n",
    "from module_name import function_name as fn\n",
    "import module_name as mn\n",
    "from module_name import *"
   ]
  },
  {
   "cell_type": "code",
   "execution_count": null,
   "metadata": {},
   "outputs": [],
   "source": [
    "# greeting.py\n",
    "\n",
    "def greet(name):\n",
    "    return f\"Hello, {name}!\"\n"
   ]
  },
  {
   "cell_type": "code",
   "execution_count": null,
   "metadata": {},
   "outputs": [],
   "source": [
    "# main_program.py\n",
    "\n",
    "# Approach 1: Import the entire module\n",
    "import greeting\n",
    "\n",
    "message = greeting.greet(\"Alice\")\n",
    "print(message)\n",
    "\n",
    "# Approach 2: Import only the function\n",
    "from greeting import greet\n",
    "\n",
    "message = greet(\"Bob\")\n",
    "print(message)\n",
    "\n",
    "# Approach 3: Import the function with an alias\n",
    "from greeting import greet as greeting_function\n",
    "\n",
    "message = greeting_function(\"Charlie\")\n",
    "print(message)\n",
    "\n",
    "# Approach 4: Import the module with an alias\n",
    "import greeting as my_greeting_module\n",
    "\n",
    "message = my_greeting_module.greet(\"David\")\n",
    "print(message)\n",
    "\n",
    "# Approach 5: Import all functions from the module\n",
    "from greeting import *\n",
    "\n",
    "message = greet(\"Eva\")\n",
    "print(message)\n"
   ]
  },
  {
   "cell_type": "markdown",
   "metadata": {},
   "source": [
    " ### Exercises 8-17\n"
   ]
  },
  {
   "cell_type": "markdown",
   "metadata": {},
   "source": [
    "Styling Functions: Choose any three programs you wrote for this chapter,\n",
    "and make sure they follow the styling guidelines described in this sectio"
   ]
  },
  {
   "cell_type": "code",
   "execution_count": null,
   "metadata": {},
   "outputs": [],
   "source": [
    "# greet.py\n",
    "\n",
    "def greet(name):\n",
    "    \"\"\"Generate a simple greeting.\"\"\"\n",
    "    return f\"Hello, {name}!\"\n",
    "\n",
    "# Example of calling the function\n",
    "user_name = \"Alice\"\n",
    "greeting_message = greet(user_name)\n",
    "print(greeting_message)\n"
   ]
  },
  {
   "cell_type": "code",
   "execution_count": null,
   "metadata": {},
   "outputs": [],
   "source": [
    "# calculate_area.py\n",
    "\n",
    "def calculate_rectangle_area(length, width):\n",
    "    \"\"\"Calculate the area of a rectangle.\"\"\"\n",
    "    return length * width\n",
    "\n",
    "# Example of calling the function\n",
    "rectangle_length = 5\n",
    "rectangle_width = 10\n",
    "area = calculate_rectangle_area(rectangle_length, rectangle_width)\n",
    "print(f\"The area of the rectangle is: {area}\")\n"
   ]
  },
  {
   "cell_type": "code",
   "execution_count": null,
   "metadata": {},
   "outputs": [],
   "source": [
    "# shopping_cart.py\n",
    "\n",
    "def calculate_total_price(cart_items):\n",
    "    \"\"\"Calculate the total price of items in a shopping cart.\"\"\"\n",
    "    total_price = sum(item['price'] * item['quantity'] for item in cart_items)\n",
    "    return total_price\n",
    "\n",
    "# Example of calling the function\n",
    "shopping_cart = [\n",
    "    {'item': 'Laptop', 'price': 1200, 'quantity': 2},\n",
    "    {'item': 'Headphones', 'price': 100, 'quantity': 3},\n",
    "    {'item': 'Mouse', 'price': 20, 'quantity': 5},\n",
    "]\n",
    "\n",
    "total_price = calculate_total_price(shopping_cart)\n",
    "print(f\"The total price of the items is: ${total_price}\")\n"
   ]
  }
 ],
 "metadata": {
  "kernelspec": {
   "display_name": "Python 3",
   "language": "python",
   "name": "python3"
  },
  "language_info": {
   "codemirror_mode": {
    "name": "ipython",
    "version": 3
   },
   "file_extension": ".py",
   "mimetype": "text/x-python",
   "name": "python",
   "nbconvert_exporter": "python",
   "pygments_lexer": "ipython3",
   "version": "3.9.18"
  }
 },
 "nbformat": 4,
 "nbformat_minor": 2
}
